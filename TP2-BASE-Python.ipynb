{
 "cells": [
  {
   "cell_type": "markdown",
   "metadata": {},
   "source": [
    "EXERCICE 1"
   ]
  },
  {
   "cell_type": "code",
   "execution_count": 1,
   "metadata": {},
   "outputs": [
    {
     "name": "stdout",
     "output_type": "stream",
     "text": [
      "y = 28, z = 42\n"
     ]
    }
   ],
   "source": [
    "class MaClasse:\n",
    "    x = 23\n",
    "    y = x + 5\n",
    "\n",
    "    def affiche(self):\n",
    "        z = 42\n",
    "        print(f\"y = {self.y}, z = {z}\")\n",
    "\n",
    "# Programme principal\n",
    "objet = MaClasse()\n",
    "objet.affiche()\n"
   ]
  },
  {
   "cell_type": "markdown",
   "metadata": {},
   "source": [
    "EXERCICE 2"
   ]
  },
  {
   "cell_type": "code",
   "execution_count": 2,
   "metadata": {},
   "outputs": [
    {
     "name": "stdout",
     "output_type": "stream",
     "text": [
      "Vecteur2D(x=0, y=0)\n",
      "Vecteur2D(x=3, y=4)\n"
     ]
    }
   ],
   "source": [
    "class Vecteur2D:\n",
    "    def __init__(self, x=0, y=0):\n",
    "        self.x = x\n",
    "        self.y = y\n",
    "\n",
    "    def __str__(self):\n",
    "        return f\"Vecteur2D(x={self.x}, y={self.y})\"\n",
    "\n",
    "# Programme principal\n",
    "v1 = Vecteur2D()\n",
    "v2 = Vecteur2D(3, 4)\n",
    "print(v1)\n",
    "print(v2)\n"
   ]
  },
  {
   "cell_type": "markdown",
   "metadata": {},
   "source": [
    "EXERCICE 3"
   ]
  },
  {
   "cell_type": "code",
   "execution_count": 3,
   "metadata": {},
   "outputs": [
    {
     "name": "stdout",
     "output_type": "stream",
     "text": [
      "Vecteur2D(x=1, y=2)\n",
      "Vecteur2D(x=3, y=4)\n",
      "Vecteur2D(x=4, y=6)\n"
     ]
    }
   ],
   "source": [
    "class Vecteur2D:\n",
    "    def __init__(self, x=0, y=0):\n",
    "        self.x = x\n",
    "        self.y = y\n",
    "\n",
    "    def __str__(self):\n",
    "        return f\"Vecteur2D(x={self.x}, y={self.y})\"\n",
    "\n",
    "    def __add__(self, other):\n",
    "        return Vecteur2D(self.x + other.x, self.y + other.y)\n",
    "\n",
    "# Programme principal\n",
    "v1 = Vecteur2D(1, 2)\n",
    "v2 = Vecteur2D(3, 4)\n",
    "v3 = v1 + v2\n",
    "print(v1)\n",
    "print(v2)\n",
    "print(v3)\n"
   ]
  },
  {
   "cell_type": "markdown",
   "metadata": {},
   "source": [
    "EXERCICE 4"
   ]
  },
  {
   "cell_type": "code",
   "execution_count": 4,
   "metadata": {},
   "outputs": [
    {
     "name": "stdout",
     "output_type": "stream",
     "text": [
      "rectangle - Longueur: 5, Largeur: 3, Surface: 15\n",
      "carré - Longueur: 4, Largeur: 4, Surface: 16\n"
     ]
    }
   ],
   "source": [
    "class Rectangle:\n",
    "    def __init__(self, longueur=1, largeur=1):\n",
    "        self.longueur = longueur\n",
    "        self.largeur = largeur\n",
    "        self.nom = \"rectangle\"\n",
    "\n",
    "    def surface(self):\n",
    "        return self.longueur * self.largeur\n",
    "\n",
    "    def __str__(self):\n",
    "        return f\"{self.nom} - Longueur: {self.longueur}, Largeur: {self.largeur}, Surface: {self.surface()}\"\n",
    "\n",
    "class Carre(Rectangle):\n",
    "    def __init__(self, cote=1):\n",
    "        super().__init__(cote, cote)\n",
    "        self.nom = \"carré\"\n",
    "\n",
    "# Programme principal\n",
    "rect = Rectangle(5, 3)\n",
    "carre = Carre(4)\n",
    "print(rect)\n",
    "print(carre)\n"
   ]
  },
  {
   "cell_type": "markdown",
   "metadata": {},
   "source": [
    "EXERCICE 5"
   ]
  },
  {
   "cell_type": "code",
   "execution_count": 5,
   "metadata": {},
   "outputs": [
    {
     "name": "stdout",
     "output_type": "stream",
     "text": [
      "Segment(Origine: Point(x=1, y=2), Extrémité: Point(x=3, y=4))\n"
     ]
    }
   ],
   "source": [
    "class Point:\n",
    "    def __init__(self, x=0.0, y=0.0):\n",
    "        self.x = x\n",
    "        self.y = y\n",
    "\n",
    "    def __str__(self):\n",
    "        return f\"Point(x={self.x}, y={self.y})\"\n",
    "\n",
    "class Segment:\n",
    "    def __init__(self, x1, y1, x2, y2):\n",
    "        self.orig = Point(x1, y1)\n",
    "        self.extrem = Point(x2, y2)\n",
    "\n",
    "    def __str__(self):\n",
    "        return f\"Segment(Origine: {self.orig}, Extrémité: {self.extrem})\"\n",
    "\n",
    "# Programme principal\n",
    "segment = Segment(1, 2, 3, 4)\n",
    "print(segment)\n"
   ]
  },
  {
   "cell_type": "markdown",
   "metadata": {},
   "source": [
    "EXERCICE 6"
   ]
  },
  {
   "cell_type": "code",
   "execution_count": 6,
   "metadata": {},
   "outputs": [
    {
     "name": "stdout",
     "output_type": "stream",
     "text": [
      "123\n",
      "142\n"
     ]
    }
   ],
   "source": [
    "def creer_plus(ajout):\n",
    "    def plus(increment):\n",
    "        return ajout + increment\n",
    "    return plus\n",
    "\n",
    "# Programme principal\n",
    "p = creer_plus(23)\n",
    "q = creer_plus(42)\n",
    "print(p(100))  # 123\n",
    "print(q(100))  # 142\n"
   ]
  },
  {
   "cell_type": "markdown",
   "metadata": {},
   "source": [
    "EXERCICE 7"
   ]
  },
  {
   "cell_type": "code",
   "execution_count": 7,
   "metadata": {},
   "outputs": [
    {
     "name": "stdout",
     "output_type": "stream",
     "text": [
      "normal\n",
      "spécial\n"
     ]
    }
   ],
   "source": [
    "class CasNormal:\n",
    "    def uneMethode(self):\n",
    "        print(\"normal\")\n",
    "\n",
    "class CasSpecial:\n",
    "    def uneMethode(self):\n",
    "        print(\"spécial\")\n",
    "\n",
    "def fabrique(estNormal=True):\n",
    "    if estNormal:\n",
    "        return CasNormal()\n",
    "    else:\n",
    "        return CasSpecial()\n",
    "\n",
    "# Programme principal\n",
    "instance1 = fabrique(True)\n",
    "instance2 = fabrique(False)\n",
    "instance1.uneMethode()  # \"normal\"\n",
    "instance2.uneMethode()  # \"spécial\"\n"
   ]
  }
 ],
 "metadata": {
  "kernelspec": {
   "display_name": "base",
   "language": "python",
   "name": "python3"
  },
  "language_info": {
   "codemirror_mode": {
    "name": "ipython",
    "version": 3
   },
   "file_extension": ".py",
   "mimetype": "text/x-python",
   "name": "python",
   "nbconvert_exporter": "python",
   "pygments_lexer": "ipython3",
   "version": "3.12.7"
  }
 },
 "nbformat": 4,
 "nbformat_minor": 2
}
