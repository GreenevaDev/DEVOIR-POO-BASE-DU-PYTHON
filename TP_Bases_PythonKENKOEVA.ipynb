{
 "cells": [
  {
   "cell_type": "markdown",
   "id": "9ddaa18d",
   "metadata": {},
   "source": [
    "# Exercice 1"
   ]
  },
  {
   "cell_type": "code",
   "execution_count": null,
   "id": "37e61995",
   "metadata": {},
   "outputs": [],
   "source": [
    "# Demander à l'utilisateur de saisir son nom\n",
    "nom = input(\"Veuillez saisir votre nom : \")\n",
    "\n",
    "# Afficher un message de bienvenue en concaténant le texte avec le nom\n",
    "print(\"Bienvenue, \" + nom + \"!\")\n",
    "\n"
   ]
  },
  {
   "cell_type": "markdown",
   "id": "2aa52f74",
   "metadata": {},
   "source": [
    "## Exercice 2"
   ]
  },
  {
   "cell_type": "code",
   "execution_count": null,
   "id": "e3416b11",
   "metadata": {},
   "outputs": [],
   "source": [
    "\n",
    "# Demander à l'utilisateur de saisir deux nombres\n",
    "a = input(\"Entrer le premier nombre : \")\n",
    "b = input(\"Entrer le second nombre : \")\n",
    "\n",
    "# Convertir les entrées de l'utilisateur en nombres flottants\n",
    "a = float(a)  # Convertir la chaîne saisie en un nombre flottant\n",
    "b = float(b)  # Convertir la chaîne saisie en un nombre flottant\n",
    "\n",
    "# Calculer la somme des deux nombres\n",
    "somme = a + b  # Additionner les deux nombres\n",
    "\n",
    "# Afficher le résultat de la somme\n",
    "print(\"La somme de\", a, \"et\", b, \"est :\", somme)\n"
   ]
  },
  {
   "cell_type": "markdown",
   "id": "2b7a2788",
   "metadata": {},
   "source": [
    "## Exercice 3"
   ]
  },
  {
   "cell_type": "code",
   "execution_count": null,
   "id": "ecec6d4c",
   "metadata": {},
   "outputs": [],
   "source": [
    "# Demander à l'utilisateur de saisir deux nombres\n",
    "a = input(\"Saisir le premier nombre : \")\n",
    "b = input(\"Saisir le second nombre : \")\n",
    "\n",
    "# Convertir les entrées en nombres flottants\n",
    "a = float(a)  # Convertir la première entrée en nombre flottant\n",
    "b = float(b)  # Convertir la deuxième entrée en nombre flottant\n",
    "\n",
    "# Comparer les deux nombres pour trouver le maximum\n",
    "if a > b:\n",
    "    maximum = a  # Si a est plus grand que b, a est le maximum\n",
    "else:\n",
    "    maximum = b  # Sinon, b est le maximum\n",
    "\n",
    "# Afficher le résultat\n",
    "print(\"Le maximum entre\", a, \"et\", b, \"est :\", maximum)\n"
   ]
  },
  {
   "cell_type": "markdown",
   "id": "f638d80b",
   "metadata": {},
   "source": [
    "## Exercice 4"
   ]
  },
  {
   "cell_type": "code",
   "execution_count": null,
   "id": "f84cfc71",
   "metadata": {},
   "outputs": [],
   "source": [
    "# Initialiser la variable i à 1\n",
    "i = 1\n",
    "\n",
    "# Tant que i est inférieur ou égal à 100\n",
    "while i <= 100:\n",
    "    # Afficher la valeur actuelle de i\n",
    "    print(i)\n",
    "    \n",
    "    # Incrémenter i de 1 à chaque itération\n",
    "    i = i + 1\n",
    "\n"
   ]
  },
  {
   "cell_type": "markdown",
   "id": "483d9797",
   "metadata": {},
   "source": [
    "## Exercice 5"
   ]
  },
  {
   "cell_type": "code",
   "execution_count": null,
   "id": "6eef7d6d",
   "metadata": {},
   "outputs": [],
   "source": [
    "# Demander à l'utilisateur de saisir un nombre entier\n",
    "n = input(\"Saisir un nombre entier : \")\n",
    "\n",
    "# Convertir l'entrée de l'utilisateur en un nombre entier\n",
    "n = int(n)  # La fonction int() convertit la chaîne en entier\n",
    "\n",
    "# Vérifier si le nombre est divisible par 2\n",
    "if n % 2 == 0:\n",
    "    # Si le reste de la division de n par 2 est 0, le nombre est pair\n",
    "    print(\"Le nombre est pair\")\n",
    "else:\n",
    "    # Sinon, le nombre est impair\n",
    "    print(\"Le nombre est impair\")\n",
    "\n"
   ]
  },
  {
   "cell_type": "markdown",
   "id": "a2d78feb",
   "metadata": {},
   "source": [
    "## Exercice 6"
   ]
  },
  {
   "cell_type": "code",
   "execution_count": null,
   "id": "a9b80f9a",
   "metadata": {},
   "outputs": [],
   "source": [
    "# Demander à l'utilisateur de saisir son âge\n",
    "age = input(\"Saisir votre âge : \")\n",
    "\n",
    "# Convertir l'entrée de l'utilisateur en un nombre entier\n",
    "age = int(age)  # La fonction int() convertit la chaîne en entier\n",
    "\n",
    "# Vérifier si l'âge est supérieur ou égal à 18\n",
    "if age >= 18:\n",
    "    # Si l'âge est supérieur ou égal à 18, la personne est majeure\n",
    "    print(\"Vous êtes majeur!\")\n",
    "else:\n",
    "    # Sinon, la personne est mineure\n",
    "    print(\"Vous êtes mineur!\")\n"
   ]
  },
  {
   "cell_type": "markdown",
   "id": "5515e591",
   "metadata": {},
   "source": [
    "## Exercice 7"
   ]
  },
  {
   "cell_type": "code",
   "execution_count": null,
   "id": "3a908691",
   "metadata": {},
   "outputs": [],
   "source": [
    "# Demander à l'utilisateur de saisir trois nombres\n",
    "x = input(\"Saisir le premier nombre : \")\n",
    "y = input(\"Saisir le second nombre : \")\n",
    "z = input(\"Saisir le troisième nombre : \")\n",
    "\n",
    "# Convertir les entrées en nombres flottants\n",
    "x = float(x)  # Convertir la première entrée en nombre flottant\n",
    "y = float(y)  # Convertir la deuxième entrée en nombre flottant\n",
    "z = float(z)  # Convertir la troisième entrée en nombre flottant\n",
    "\n",
    "# Trouver le maximum parmi les trois nombres\n",
    "if x >= y and x >= z:\n",
    "    # Si x est plus grand ou égal à y et z, alors x est le maximum\n",
    "    maximum = x\n",
    "elif y >= x and y >= z:\n",
    "    # Sinon, si y est plus grand ou égal à x et z, alors y est le maximum\n",
    "    maximum = y\n",
    "else:\n",
    "    # Si aucune des conditions précédentes n'est vraie, alors z est le maximum\n",
    "    maximum = z\n",
    "\n",
    "# Afficher le résultat\n",
    "print(\"Le maximum entre\", x, \",\", y, \"et\", z, \"est :\", maximum)\n"
   ]
  },
  {
   "cell_type": "markdown",
   "id": "0d8c3253",
   "metadata": {},
   "source": [
    "## Exercice 8"
   ]
  },
  {
   "cell_type": "code",
   "execution_count": null,
   "id": "d7caf265",
   "metadata": {},
   "outputs": [],
   "source": [
    "# Demander à l'utilisateur de saisir un nombre entier\n",
    "n = input(\"Saisir un nombre entier n : \")\n",
    "\n",
    "# Convertir l'entrée en entier\n",
    "n = int(n)  # La fonction int() permet de convertir la chaîne en entier\n",
    "\n",
    "# Calculer la somme des entiers de 1 à n\n",
    "somme = 0  # Initialiser la variable somme à 0\n",
    "for i in range(1, n + 1):  # La boucle parcourt tous les entiers de 1 à n\n",
    "    somme = somme + i  # Ajouter chaque entier i à la somme\n",
    "\n",
    "# Afficher le résultat de la somme\n",
    "print(\"La somme des entiers de 1 à\", n, \"est :\", somme)\n"
   ]
  },
  {
   "cell_type": "markdown",
   "id": "c6ecd904",
   "metadata": {},
   "source": [
    "## Exercice 9"
   ]
  },
  {
   "cell_type": "code",
   "execution_count": null,
   "id": "6c39565a",
   "metadata": {},
   "outputs": [],
   "source": [
    "# Importer le module math pour utiliser la fonction factoriel\n",
    "import math\n",
    "\n",
    "# Demander à l'utilisateur de saisir un nombre entier n\n",
    "n = int(input(\"Saisir un nombre entier n : \"))\n",
    "\n",
    "# Calculer le factoriel de n en utilisant math.factorial()\n",
    "factoriel = math.factorial(n)\n",
    "\n",
    "# Afficher le résultat\n",
    "print(f\"Le factoriel de {n} est : {factoriel}\")\n"
   ]
  },
  {
   "cell_type": "markdown",
   "id": "920dbe4e",
   "metadata": {},
   "source": [
    "## Exercice 10"
   ]
  },
  {
   "cell_type": "code",
   "execution_count": null,
   "id": "2463ab1d",
   "metadata": {},
   "outputs": [],
   "source": [
    "# Importer le module math pour utiliser la constante pi\n",
    "import math\n",
    "\n",
    "# Demander à l'utilisateur de saisir le rayon du cercle\n",
    "r = float(input(\"Saisir le rayon d'un cercle : \"))\n",
    "\n",
    "# Calculer la surface du cercle\n",
    "surface = math.pi * r ** 2  # Surface = pi * rayon^2\n",
    "\n",
    "# Calculer le périmètre du cercle\n",
    "perimetre = 2 * math.pi * r  # Périmètre = 2 * pi * rayon\n",
    "\n",
    "# Afficher les résultats\n",
    "print(f\"La surface est : {surface}, et le périmètre est : {perimetre}\")\n"
   ]
  },
  {
   "cell_type": "markdown",
   "id": "7a4f0769",
   "metadata": {},
   "source": [
    "## Exercice 11"
   ]
  },
  {
   "cell_type": "code",
   "execution_count": null,
   "id": "d446d75b",
   "metadata": {},
   "outputs": [],
   "source": [
    "# Demander à l'utilisateur de saisir un nombre entier n\n",
    "n = int(input(\"Saisir un nombre entier n : \"))\n",
    "\n",
    "# Créer une liste pour stocker les diviseurs\n",
    "diviseurs = []\n",
    "\n",
    "# Parcourir tous les nombres de 1 à n pour vérifier lesquels divisent n sans reste\n",
    "for i in range(1, n + 1):\n",
    "    if n % i == 0:  # Si n est divisible par i sans reste\n",
    "        diviseurs.append(i)  # Ajouter i à la liste des diviseurs\n",
    "\n",
    "# Afficher les diviseurs de n\n",
    "print(f\"Les diviseurs de {n} sont : {diviseurs}\")\n"
   ]
  },
  {
   "cell_type": "markdown",
   "id": "90f6076c",
   "metadata": {},
   "source": [
    "## Exercice 12"
   ]
  },
  {
   "cell_type": "code",
   "execution_count": null,
   "id": "826cec49",
   "metadata": {},
   "outputs": [],
   "source": [
    "# Demander à l'utilisateur de saisir un nombre entier n\n",
    "n = int(input(\"Saisir un nombre entier n : \"))\n",
    "\n",
    "# Partie 1 : Afficher la table de multiplication pour ce nombre\n",
    "for i in range(1, 11):  # Parcourir les nombres de 1 à 10\n",
    "    # Afficher le résultat de la multiplication\n",
    "    print(f\"{n} x {i} = {n * i}\")\n",
    "# Partie 2 : Afficher les tables de multiplication de 1 à 9\n",
    "for n in range(1, 10):  # Parcourir les nombres de 1 à 9\n",
    "    print(f\"\\nTable de multiplication de {n}:\")  # Afficher le titre de la table\n",
    "    for i in range(1, 11):  # Parcourir les multiplicateurs de 1 à 10\n",
    "        # Afficher le résultat de la multiplication\n",
    "        print(f\"{n} x {i} = {n * i}\")\n"
   ]
  },
  {
   "cell_type": "markdown",
   "id": "64a86575",
   "metadata": {},
   "source": [
    "## Exercice 13"
   ]
  },
  {
   "cell_type": "code",
   "execution_count": null,
   "id": "fbcc359a",
   "metadata": {},
   "outputs": [],
   "source": [
    "# Demander à l'utilisateur de saisir deux nombres entiers\n",
    "a = int(input(\"Saisir un nombre entier a : \"))\n",
    "b = int(input(\"Saisir un nombre entier b : \"))\n",
    "\n",
    "# Calculer le quotient et le reste de la division de a par b\n",
    "quotient = a // b  # Utilise la division entière pour obtenir le quotient\n",
    "reste = a % b      # Utilise le modulo pour obtenir le reste\n",
    "\n",
    "# Afficher le résultat\n",
    "print(f\"Le quotient est {quotient} et le reste est {reste}\")\n"
   ]
  },
  {
   "cell_type": "markdown",
   "id": "f66a45dd",
   "metadata": {},
   "source": [
    "## Exercice 14"
   ]
  },
  {
   "cell_type": "code",
   "execution_count": null,
   "id": "3bbdddc3",
   "metadata": {},
   "outputs": [],
   "source": [
    "import math\n",
    "\n",
    "# Demander à l'utilisateur de saisir un nombre entier\n",
    "n = int(input(\"Saisir un nombre entier n : \"))\n",
    "\n",
    "# Calculer la racine carrée entière de n\n",
    "racine = math.isqrt(n)\n",
    "\n",
    "# Vérifier si le carré de la racine est égal à n\n",
    "if racine * racine == n:\n",
    "    print(f\"{n} est un carré parfait\")\n",
    "else:\n",
    "    print(f\"{n} n'est pas un carré parfait\")\n"
   ]
  },
  {
   "cell_type": "markdown",
   "id": "0b0d4def",
   "metadata": {},
   "source": [
    "## Exercice 15"
   ]
  },
  {
   "cell_type": "code",
   "execution_count": null,
   "id": "f86e3427",
   "metadata": {},
   "outputs": [],
   "source": [
    "n = int(input(\"Saisir un nombre entier n : \"))\n",
    "\n",
    "# Vérifier si n est supérieur à 1\n",
    "if n > 1:\n",
    "    # Par défaut, on suppose que le nombre est premier\n",
    "    est_premier = True\n",
    "\n",
    "    # Vérifier si n est divisible par un nombre entre 2 et n-1\n",
    "    for i in range(2, n):\n",
    "        if n % i == 0:\n",
    "            est_premier = False  # Si divisible, ce n'est pas un nombre premier\n",
    "            break  # Arrêter dès qu'on trouve un diviseur\n",
    "\n",
    "    # Afficher si le nombre est premier ou non\n",
    "    if est_premier:\n",
    "        print(f\"{n} est un nombre premier\")\n",
    "    else:\n",
    "        print(f\"{n} n'est pas un nombre premier\")\n",
    "else:\n",
    "    print(f\"{n} n'est pas un nombre premier\")  # Si n <= 1, ce n'est pas un nombre premier\n"
   ]
  },
  {
   "cell_type": "markdown",
   "id": "dc5d2901",
   "metadata": {},
   "source": [
    "## Exercice 16"
   ]
  },
  {
   "cell_type": "code",
   "execution_count": null,
   "id": "618d4f93",
   "metadata": {},
   "outputs": [],
   "source": [
    "s = \"Python\"\n",
    "\n",
    "# Parcourir chaque caractère dans la chaîne s\n",
    "for char in s:\n",
    "    # Afficher chaque caractère un par un\n",
    "    print(char)\n"
   ]
  },
  {
   "cell_type": "markdown",
   "id": "bd809da2",
   "metadata": {},
   "source": [
    "## Exercice 17"
   ]
  },
  {
   "cell_type": "code",
   "execution_count": null,
   "id": "7814bbf7",
   "metadata": {},
   "outputs": [],
   "source": [
    "s = \"Python.org\"\n",
    "\n",
    "# Créer un dictionnaire pour compter les occurrences de chaque caractère\n",
    "occurrences = {}\n",
    "\n",
    "# Parcourir chaque caractère dans la chaîne s\n",
    "for char in s:\n",
    "    # Si le caractère est déjà dans le dictionnaire, ajouter 1 à sa valeur\n",
    "    if char in occurrences:\n",
    "        occurrences[char] += 1\n",
    "    else:\n",
    "        # Sinon, ajouter le caractère au dictionnaire avec la valeur 1\n",
    "        occurrences[char] = 1\n",
    "\n",
    "# Afficher le nombre d'occurrences de chaque caractère\n",
    "for char, count in occurrences.items():\n",
    "    print(f\"Le caractère '{char}' figure {count} fois dans la chaîne.\")\n"
   ]
  },
  {
   "cell_type": "markdown",
   "id": "83f17c33",
   "metadata": {},
   "source": [
    "## Exercice 18"
   ]
  },
  {
   "cell_type": "code",
   "execution_count": null,
   "id": "d82756dd",
   "metadata": {},
   "outputs": [],
   "source": [
    "s = input(\"Saisir une chaîne : \")\n",
    "\n",
    "# Créer une liste pour stocker les positions des 'a'\n",
    "positions = []\n",
    "\n",
    "# Parcourir chaque caractère de la chaîne\n",
    "for i in range(len(s)):\n",
    "    if s[i] == 'a':  # Si le caractère est 'a'\n",
    "        positions.append(i)  # Ajouter la position à la liste\n",
    "\n",
    "# Afficher les positions ou un message si 'a' n'est pas trouvé\n",
    "if len(positions) > 0:\n",
    "    for pos in positions:\n",
    "        print(f\"La lettre 'a' se trouve à la position : {pos}\")\n",
    "else:\n",
    "    print(\"La lettre 'a' n'est pas présente dans la chaîne.\")\n"
   ]
  },
  {
   "cell_type": "markdown",
   "id": "2942dc36",
   "metadata": {},
   "source": [
    "## Exercice 19"
   ]
  },
  {
   "cell_type": "code",
   "execution_count": null,
   "id": "f71885f5",
   "metadata": {},
   "outputs": [],
   "source": [
    "l = [\"laptop\", \"iphone\", \"tablet\"]\n",
    "\n",
    "# Parcourir chaque élément de la liste\n",
    "for item in l:\n",
    "    # Calculer la longueur de l'élément et l'afficher\n",
    "    longueur = len(item)  # Obtenir la longueur du mot\n",
    "    print(item, \"- longueur :\", longueur)  # Afficher l'élément et sa longueur\n"
   ]
  },
  {
   "cell_type": "markdown",
   "id": "be99b0fa",
   "metadata": {},
   "source": [
    "## Exercice 20"
   ]
  },
  {
   "cell_type": "code",
   "execution_count": null,
   "id": "23fc1775",
   "metadata": {},
   "outputs": [],
   "source": [
    "s = input(\"Saisir une chaîne : \")\n",
    "\n",
    "# Si la chaîne a plus d'un caractère\n",
    "if len(s) > 1:\n",
    "    # Créer une nouvelle chaîne avec le premier et dernier caractère échangés\n",
    "    s = s[-1] + s[1:-1] + s[0]\n",
    "    \n",
    "# Afficher le résultat\n",
    "print(\"Résultat :\", s)\n"
   ]
  },
  {
   "cell_type": "markdown",
   "id": "ecf300f4",
   "metadata": {},
   "source": [
    "## Exercice 21"
   ]
  },
  {
   "cell_type": "code",
   "execution_count": null,
   "id": "44be4bca",
   "metadata": {},
   "outputs": [],
   "source": [
    "s = \"anticonstitutionnellement\"\n",
    "voyelles = \"aeiouy\"\n",
    "\n",
    "# Créer une variable pour compter les voyelles\n",
    "nb_voyelles = 0\n",
    "\n",
    "# Parcourir chaque caractère de la chaîne s\n",
    "for char in s:\n",
    "    if char in voyelles:  # Si le caractère est une voyelle\n",
    "        nb_voyelles += 1  # Ajouter 1 au compteur\n",
    "\n",
    "# Afficher le nombre de voyelles\n",
    "print(f\"La chaîne '{s}' possède {nb_voyelles} voyelles.\")\n"
   ]
  },
  {
   "cell_type": "markdown",
   "id": "47456755",
   "metadata": {},
   "source": [
    "## Exercice 22"
   ]
  },
  {
   "cell_type": "code",
   "execution_count": null,
   "id": "3e45d9f1",
   "metadata": {},
   "outputs": [],
   "source": [
    "t = \"Python est un merveilleux langage de programmation\"\n",
    "\n",
    "# Diviser la chaîne en une liste de mots\n",
    "mots = t.split()\n",
    "\n",
    "# Afficher le premier mot de la liste\n",
    "print(\"Le premier mot est :\", mots[0])\n"
   ]
  },
  {
   "cell_type": "markdown",
   "id": "9a27d31d",
   "metadata": {},
   "source": [
    "## Exercice 23"
   ]
  },
  {
   "cell_type": "code",
   "execution_count": null,
   "id": "b53e74e0",
   "metadata": {},
   "outputs": [],
   "source": [
    "fichier = input(\"Saisir le nom d'un fichier : \")\n",
    "\n",
    "# Trouver le dernier point dans le nom du fichier\n",
    "position_point = fichier.rfind('.')  # Trouver la position du dernier point\n",
    "\n",
    "# Extraire l'extension du fichier\n",
    "if position_point != -1:  # Si un point a été trouvé\n",
    "    extension = fichier[position_point+1:]  # Prendre tout ce qui vient après le dernier point\n",
    "    print(f\"L'extension du fichier est : .{extension}\")\n",
    "else:\n",
    "    print(\"Le fichier n'a pas d'extension.\")\n"
   ]
  },
  {
   "cell_type": "markdown",
   "id": "ea9cf361",
   "metadata": {},
   "source": [
    "## Exercice 24"
   ]
  },
  {
   "cell_type": "code",
   "execution_count": null,
   "id": "077814ff",
   "metadata": {},
   "outputs": [],
   "source": [
    "mot = input(\"Saisir un mot : \")\n",
    "\n",
    "# Créer une variable pour l'inverse du mot\n",
    "inverse = \"\"\n",
    "\n",
    "# Parcourir chaque caractère du mot de la fin vers le début\n",
    "for i in range(len(mot)-1, -1, -1):\n",
    "    inverse += mot[i]  # Ajouter chaque caractère à l'inverse\n",
    "\n",
    "# Vérifier si le mot est égal à son inverse\n",
    "if mot == inverse:\n",
    "    print(f\"{mot} est un palindrome\")\n",
    "else:\n",
    "    print(f\"{mot} n'est pas un palindrome\")\n"
   ]
  },
  {
   "cell_type": "markdown",
   "id": "b98186c3",
   "metadata": {},
   "source": [
    "## Exercice 25"
   ]
  },
  {
   "cell_type": "code",
   "execution_count": null,
   "id": "111b80fd",
   "metadata": {},
   "outputs": [],
   "source": [
    "mot = input(\"Saisir un mot : \")\n",
    "\n",
    "# Créer une chaîne vide pour l'inverse\n",
    "inverse = \"\"\n",
    "\n",
    "# Parcourir chaque caractère du mot de la fin vers le début\n",
    "for i in range(len(mot)-1, -1, -1):\n",
    "    inverse += mot[i]  # Ajouter chaque caractère à l'inverse\n",
    "\n",
    "# Afficher l'inverse du mot\n",
    "print(\"L'inverse est :\", inverse)\n"
   ]
  },
  {
   "cell_type": "markdown",
   "id": "cc7c06d2",
   "metadata": {},
   "source": [
    "## Exercice 26"
   ]
  },
  {
   "cell_type": "code",
   "execution_count": null,
   "id": "5d76cd37",
   "metadata": {},
   "outputs": [],
   "source": [
    "texte = input(\"Saisir un texte : \")\n",
    "\n",
    "# Créer une liste vide pour les mots commençant par 'a'\n",
    "mots = []\n",
    "\n",
    "# Parcourir chaque mot du texte\n",
    "for mot in texte.split():\n",
    "    if mot.startswith('a'):  # Si le mot commence par 'a'\n",
    "        mots.append(mot)  # Ajouter le mot à la liste\n",
    "\n",
    "# Afficher les mots qui commencent par 'a'\n",
    "print(\"Mots commençant par 'a' :\", mots)\n"
   ]
  },
  {
   "cell_type": "markdown",
   "id": "10889eb4",
   "metadata": {},
   "source": [
    "## Exercice 27"
   ]
  },
  {
   "cell_type": "code",
   "execution_count": null,
   "id": "d1d31ae9",
   "metadata": {},
   "outputs": [],
   "source": [
    "def somme_liste(l):\n",
    "    # Calculer la somme des éléments de la liste\n",
    "    total = 0\n",
    "    for num in l:\n",
    "        total += num  # Ajouter chaque élément à la somme\n",
    "    return total\n",
    "\n",
    "def produit_liste(l):\n",
    "    # Calculer le produit des éléments de la liste\n",
    "    produit = 1\n",
    "    for num in l:\n",
    "        produit *= num  # Multiplier chaque élément au produit\n",
    "    return produit\n",
    "\n",
    "# Exemple\n",
    "print(\"Somme :\", somme_liste([1, 2, 3]))  # Calculer et afficher la somme des éléments\n",
    "print(\"Produit :\", produit_liste([1, 2, 3]))  # Calculer et afficher le produit des éléments\n"
   ]
  },
  {
   "cell_type": "markdown",
   "id": "b30f0fff",
   "metadata": {},
   "source": [
    "## Exercice 28"
   ]
  },
  {
   "cell_type": "code",
   "execution_count": null,
   "id": "066b70e1",
   "metadata": {},
   "outputs": [],
   "source": [
    "def est_vide(obj):\n",
    "    # Vérifier si l'objet est vide en vérifiant si sa longueur est 0\n",
    "    if len(obj) == 0:\n",
    "        return True  # Si l'objet est vide, retourner True\n",
    "    else:\n",
    "        return False  # Si l'objet n'est pas vide, retourner False\n",
    "\n",
    "# Exemple\n",
    "print(\"Liste vide:\", est_vide([]))  # Vérifier si la liste est vide\n",
    "print(\"Chaine vide:\", est_vide(\"\"))  # Vérifier si la chaîne est vide\n"
   ]
  },
  {
   "cell_type": "markdown",
   "id": "8088181c",
   "metadata": {},
   "source": [
    "## Exercice 29"
   ]
  },
  {
   "cell_type": "code",
   "execution_count": null,
   "id": "8bb10f58",
   "metadata": {},
   "outputs": [],
   "source": [
    "def supprimer_duplicats(l):\n",
    "    # Créer une nouvelle liste vide pour les éléments uniques\n",
    "    sans_duplicats = []\n",
    "    \n",
    "    # Parcourir chaque élément de la liste l\n",
    "    for element in l:\n",
    "        if element not in sans_duplicats:  # Si l'élément n'est pas déjà dans la nouvelle liste\n",
    "            sans_duplicats.append(element)  # Ajouter l'élément à la liste\n",
    "    \n",
    "    return sans_duplicats\n",
    "\n",
    "# Exemple\n",
    "print(\"Sans doublons :\", supprimer_duplicats([1, 2, 2, 3, 3, 3, 4]))\n"
   ]
  },
  {
   "cell_type": "markdown",
   "id": "ba8ded14",
   "metadata": {},
   "source": [
    "## Exercice 30"
   ]
  },
  {
   "cell_type": "code",
   "execution_count": null,
   "id": "4de57c8d",
   "metadata": {},
   "outputs": [],
   "source": [
    "def ont_valeur_commune(l1, l2):\n",
    "    # Convertir les listes en ensembles (set) pour vérifier les valeurs communes\n",
    "    for valeur in l1:\n",
    "        if valeur in l2:  # Si une valeur de l1 se trouve aussi dans l2\n",
    "            return True  # Retourner True dès qu'une valeur commune est trouvée\n",
    "    return False  # Si aucune valeur commune n'est trouvée\n",
    "\n",
    "# Exemple\n",
    "print(\"Valeur commune :\", ont_valeur_commune([1, 2, 3], [3, 4, 5]))\n"
   ]
  },
  {
   "cell_type": "markdown",
   "id": "aa66e990",
   "metadata": {},
   "source": [
    "## Exercice 31"
   ]
  },
  {
   "cell_type": "code",
   "execution_count": null,
   "id": "1cb74e5b",
   "metadata": {},
   "outputs": [],
   "source": [
    "def extraire_pairs_impairs(l):\n",
    "    # Créer des listes vides pour les nombres pairs et impairs\n",
    "    pairs = []\n",
    "    impairs = []\n",
    "\n",
    "    # Parcourir chaque élément de la liste\n",
    "    for x in l:\n",
    "        if x % 2 == 0:  # Si le nombre est pair\n",
    "            pairs.append(x)  # Ajouter à la liste des pairs\n",
    "        else:  # Si le nombre est impair\n",
    "            impairs.append(x)  # Ajouter à la liste des impairs\n",
    "    \n",
    "    return pairs, impairs\n",
    "\n",
    "# Exemple\n",
    "print(\"Pairs et Impairs :\", extraire_pairs_impairs([1, 2, 3, 4, 5]))\n"
   ]
  },
  {
   "cell_type": "markdown",
   "id": "495aee77",
   "metadata": {},
   "source": [
    "## Exercice 32"
   ]
  },
  {
   "cell_type": "code",
   "execution_count": null,
   "id": "6ab364e8",
   "metadata": {},
   "outputs": [],
   "source": [
    "from itertools import permutations\n",
    "\n",
    "def permuter_elements(l):\n",
    "    # Créer une liste vide pour stocker les permutations\n",
    "    permutations_list = []\n",
    "    \n",
    "    # Utiliser permutations de itertools pour obtenir les permutations\n",
    "    for perm in permutations(l):\n",
    "        # Ajouter chaque permutation à la liste\n",
    "        permutations_list.append(perm)\n",
    "    \n",
    "    return permutations_list\n",
    "\n",
    "# Exemple\n",
    "print(\"Permutations :\", permuter_elements([1, 2, 3]))\n"
   ]
  },
  {
   "cell_type": "markdown",
   "id": "402711a7",
   "metadata": {},
   "source": [
    "## Exercice 33"
   ]
  },
  {
   "cell_type": "code",
   "execution_count": null,
   "id": "146f25c7",
   "metadata": {},
   "outputs": [],
   "source": [
    "s = input(\"Saisir une chaine : \")\n",
    "print(\"Caractères d'indice pair :\", s[::2])"
   ]
  },
  {
   "cell_type": "markdown",
   "id": "c66776b7",
   "metadata": {},
   "source": [
    "## Exercice 34"
   ]
  },
  {
   "cell_type": "code",
   "execution_count": null,
   "id": "a3a36c1c",
   "metadata": {},
   "outputs": [],
   "source": [
    "notes = [12, 4, 14, 11, 18, 13, 7, 10, 5, 9, 15, 8, 14, 16]\n",
    "\n",
    "# Créer une liste pour les notes au-dessus de la moyenne\n",
    "au_dessus_moyenne = []\n",
    "for note in notes:\n",
    "    if note >= 10:  # Si la note est supérieure ou égale à 10\n",
    "        au_dessus_moyenne.append(note)  # Ajouter la note à la liste\n",
    "\n",
    "# Afficher les notes au-dessus de la moyenne\n",
    "print(\"Notes au-dessus de la moyenne :\", au_dessus_moyenne)\n"
   ]
  },
  {
   "cell_type": "markdown",
   "id": "779bcc77",
   "metadata": {},
   "source": [
    "## Exercice 35"
   ]
  },
  {
   "cell_type": "code",
   "execution_count": null,
   "id": "53797a62",
   "metadata": {},
   "outputs": [],
   "source": [
    "url = input(\"Saisir une URL : \")\n",
    "\n",
    "# Créer un lien HTML\n",
    "lien_html = \"<a href='\" + url + \"'>\" + url + \"</a>\"\n",
    "\n",
    "# Afficher le lien HTML\n",
    "print(lien_html)\n"
   ]
  },
  {
   "cell_type": "markdown",
   "id": "016fa1ce",
   "metadata": {},
   "source": [
    "## Exercice 36"
   ]
  },
  {
   "cell_type": "code",
   "execution_count": null,
   "id": "4f529513",
   "metadata": {},
   "outputs": [],
   "source": [
    "s = input(\"Saisir une chaîne avec espaces multiples : \")\n",
    "\n",
    "# Diviser la chaîne en mots (cela enlève automatiquement les espaces multiples)\n",
    "mots = s.split()\n",
    "\n",
    "# Rejoindre les mots avec un seul espace entre eux\n",
    "s_sans_espaces_multiples = \"\"\n",
    "for mot in mots:\n",
    "    s_sans_espaces_multiples += mot + \" \"\n",
    "\n",
    "# Retirer le dernier espace excédentaire ajouté\n",
    "s_sans_espaces_multiples = s_sans_espaces_multiples.strip()\n",
    "\n",
    "# Afficher le résultat\n",
    "print(\"Sans espaces multiples :\", s_sans_espaces_multiples)\n"
   ]
  },
  {
   "cell_type": "markdown",
   "id": "21e67412",
   "metadata": {},
   "source": [
    "## Exercice 37"
   ]
  },
  {
   "cell_type": "code",
   "execution_count": null,
   "id": "f3de9e55",
   "metadata": {},
   "outputs": [],
   "source": [
    "s1 = \"Python est un langage de programmation\"\n",
    "s2 = \"Python est orienté objet\"\n",
    "\n",
    "# Diviser les chaînes en mots\n",
    "mots_s1 = s1.split()\n",
    "mots_s2 = s2.split()\n",
    "\n",
    "# Trouver les mots communs\n",
    "mots_communs = []\n",
    "for mot in mots_s1:\n",
    "    if mot in mots_s2:  # Si le mot est présent dans les deux listes\n",
    "        mots_communs.append(mot)  # Ajouter le mot à la liste des mots communs\n",
    "\n",
    "# Afficher les mots communs\n",
    "print(\"Mots communs :\", mots_communs)\n"
   ]
  },
  {
   "cell_type": "markdown",
   "id": "568b0866",
   "metadata": {},
   "source": [
    "## Exercice 38"
   ]
  },
  {
   "cell_type": "code",
   "execution_count": null,
   "id": "44183b6b",
   "metadata": {},
   "outputs": [],
   "source": [
    "s = input(\"Saisir une chaîne : \")\n",
    "\n",
    "# Diviser la chaîne en mots\n",
    "mots = s.split()\n",
    "\n",
    "# Trouver le mot le plus long\n",
    "mot_le_plus_long = mots[0]  # Initialiser avec le premier mot\n",
    "for mot in mots:\n",
    "    if len(mot) > len(mot_le_plus_long):  # Si le mot actuel est plus long que le précédent\n",
    "        mot_le_plus_long = mot  # Mettre à jour le mot le plus long\n",
    "\n",
    "# Afficher le mot le plus long\n",
    "print(\"Mot le plus long :\", mot_le_plus_long)\n"
   ]
  },
  {
   "cell_type": "markdown",
   "id": "4f929958",
   "metadata": {},
   "source": [
    "## Exercice 39"
   ]
  },
  {
   "cell_type": "code",
   "execution_count": null,
   "id": "2eae9832",
   "metadata": {},
   "outputs": [],
   "source": [
    "s = input(\"Saisir une chaîne : \")\n",
    "\n",
    "# Diviser la chaîne en mots\n",
    "mots = s.split()\n",
    "\n",
    "# Compter le nombre de mots\n",
    "nombre_mots = 0\n",
    "for mot in mots:\n",
    "    nombre_mots += 1\n",
    "\n",
    "# Afficher le nombre de mots\n",
    "print(\"Nombre de mots :\", nombre_mots)\n"
   ]
  },
  {
   "cell_type": "markdown",
   "id": "699e563b",
   "metadata": {},
   "source": [
    "## Exercice 40"
   ]
  },
  {
   "cell_type": "code",
   "execution_count": null,
   "id": "b4fbb888",
   "metadata": {},
   "outputs": [
    {
     "name": "stdout",
     "output_type": "stream",
     "text": [
      "Chaine avec premier et dernier mot échangés : programmation est un langage de Python\n"
     ]
    }
   ],
   "source": [
    "s = \"Python est un langage de programmation\"\n",
    "\n",
    "# Diviser la chaîne en mots\n",
    "mots = s.split()\n",
    "\n",
    "# Échanger le premier et le dernier mot\n",
    "premier_mot = mots[0]\n",
    "dernier_mot = mots[-1]\n",
    "\n",
    "# Remplacer le premier et dernier mot dans la liste\n",
    "mots[0] = dernier_mot\n",
    "mots[-1] = premier_mot\n",
    "\n",
    "# Rejoindre les mots pour reformer la chaîne\n",
    "s_echangee = ' '.join(mots)\n",
    "\n",
    "# Afficher la chaîne avec le premier et dernier mot échangés\n",
    "print(\"Chaine avec premier et dernier mot échangés :\", s_echangee)\n"
   ]
  },
  {
   "cell_type": "markdown",
   "id": "f72e8bd1",
   "metadata": {},
   "source": [
    "## Exercice 41"
   ]
  },
  {
   "cell_type": "code",
   "execution_count": null,
   "id": "5ac665cc",
   "metadata": {},
   "outputs": [],
   "source": [
    "def nombreDivisibles(l, n):\n",
    "    return sum(1 for x in l if x % n == 0)\n",
    "\n",
    "# Exemple\n",
    "print(\"Nombre d'éléments divisibles :\", nombreDivisibles([2, 4, 6, 8], 2))"
   ]
  },
  {
   "cell_type": "markdown",
   "id": "0e34596e",
   "metadata": {},
   "source": [
    "## Exercice 42"
   ]
  },
  {
   "cell_type": "code",
   "execution_count": null,
   "id": "7e03b089",
   "metadata": {},
   "outputs": [
    {
     "name": "stdout",
     "output_type": "stream",
     "text": [
      "Nombre d'occurrences : 3\n"
     ]
    }
   ],
   "source": [
    "def nombreOccurences(L, x):\n",
    "    # Initialiser un compteur\n",
    "    compteur = 0\n",
    "    \n",
    "    # Parcourir chaque élément de la liste\n",
    "    for i in L:\n",
    "        if i == x:  # Si l'élément est égal à x\n",
    "            compteur += 1  # Incrémenter le compteur\n",
    "    \n",
    "    return compteur\n",
    "\n",
    "# Exemple\n",
    "print(\"Nombre d'occurrences :\", nombreOccurences([1, 2, 2, 3, 2], 2))\n"
   ]
  },
  {
   "cell_type": "markdown",
   "id": "00e8ffee",
   "metadata": {},
   "source": [
    "## Exercice 43"
   ]
  },
  {
   "cell_type": "code",
   "execution_count": null,
   "id": "8dbb6f70",
   "metadata": {},
   "outputs": [
    {
     "name": "stdout",
     "output_type": "stream",
     "text": [
      "Avec étoiles : P*y*t*h*o*n\n"
     ]
    }
   ],
   "source": [
    "def InsertEtoile(s):\n",
    "    # Créer une nouvelle chaîne avec des étoiles entre chaque caractère\n",
    "    resultat = \"\"\n",
    "    for i in range(len(s) - 1):\n",
    "        resultat += s[i] + \"*\"  # Ajouter un caractère et une étoile\n",
    "    resultat += s[-1]  # Ajouter le dernier caractère sans étoile\n",
    "    return resultat\n",
    "\n",
    "# Exemple\n",
    "print(\"Avec étoiles :\", InsertEtoile(\"Python\"))\n"
   ]
  },
  {
   "cell_type": "markdown",
   "id": "6dde41ab",
   "metadata": {},
   "source": [
    "## Exercice 44"
   ]
  },
  {
   "cell_type": "code",
   "execution_count": null,
   "id": "acea74a7",
   "metadata": {},
   "outputs": [
    {
     "name": "stdout",
     "output_type": "stream",
     "text": [
      "Liste en majuscule : ['PYTHON', 'EST', 'UN', 'LANGAGE', 'DE', 'PROGRAMMATION']\n"
     ]
    }
   ],
   "source": [
    "def toutEnMajuscule(L):\n",
    "    # Créer une nouvelle liste avec les mots en majuscule\n",
    "    L_majuscule = []\n",
    "    for mot in L:\n",
    "        L_majuscule.append(mot.upper())  # Mettre chaque mot en majuscule et l'ajouter à la liste\n",
    "    return L_majuscule\n",
    "\n",
    "# Exemple\n",
    "L = [\"Python\", \"est\", \"un\", \"langage\", \"de\", \"programmation\"]\n",
    "print(\"Liste en majuscule :\", toutEnMajuscule(L))\n"
   ]
  },
  {
   "cell_type": "markdown",
   "id": "f611e581",
   "metadata": {},
   "source": [
    "## Exercice 45"
   ]
  },
  {
   "cell_type": "code",
   "execution_count": null,
   "id": "38b5dc54",
   "metadata": {},
   "outputs": [
    {
     "name": "stdout",
     "output_type": "stream",
     "text": [
      "Majuscules et minuscules : (3, 16)\n"
     ]
    }
   ],
   "source": [
    "def compter_maj_min(s):\n",
    "    nb_majuscules = 0\n",
    "    nb_minuscules = 0\n",
    "    \n",
    "    # Parcourir chaque caractère de la chaîne\n",
    "    for c in s:\n",
    "        if c.isupper():  # Vérifier si c'est une majuscule\n",
    "            nb_majuscules += 1\n",
    "        elif c.islower():  # Vérifier si c'est une minuscule\n",
    "            nb_minuscules += 1\n",
    "    \n",
    "    return nb_majuscules, nb_minuscules\n",
    "\n",
    "# Exemple\n",
    "print(\"Majuscules et minuscules :\", compter_maj_min(\"PythonEstFormidable\"))\n"
   ]
  },
  {
   "cell_type": "markdown",
   "id": "c1fb8451",
   "metadata": {},
   "source": [
    "## Exercice 46"
   ]
  },
  {
   "cell_type": "code",
   "execution_count": null,
   "id": "8ef3eea8",
   "metadata": {},
   "outputs": [
    {
     "name": "stdout",
     "output_type": "stream",
     "text": [
      "Chiffres du nombre : [1, 2, 3, 4, 5]\n"
     ]
    }
   ],
   "source": [
    "def extraire_chiffres(n):\n",
    "    chiffres = []\n",
    "    \n",
    "    # Extraire les chiffres un par un\n",
    "    while n > 0:\n",
    "        chiffre = n % 10  # Récupérer le dernier chiffre\n",
    "        chiffres.append(chiffre)  # Ajouter le chiffre à la liste\n",
    "        n = n // 10  # Supprimer le dernier chiffre du nombre\n",
    "    \n",
    "    # Inverser la liste pour avoir les chiffres dans l'ordre\n",
    "    chiffres = chiffres[::-1]\n",
    "    \n",
    "    return chiffres\n",
    "\n",
    "# Exemple\n",
    "print(\"Chiffres du nombre :\", extraire_chiffres(12345))\n"
   ]
  },
  {
   "cell_type": "markdown",
   "id": "6186bb93",
   "metadata": {},
   "source": [
    "## Exercice 47"
   ]
  },
  {
   "cell_type": "code",
   "execution_count": null,
   "id": "9f13ecc4",
   "metadata": {},
   "outputs": [
    {
     "name": "stdout",
     "output_type": "stream",
     "text": [
      "Mots communs : ['est', 'Python']\n"
     ]
    }
   ],
   "source": [
    "def mots_communs(t1, t2):\n",
    "    # Séparer les phrases en mots\n",
    "    mots_t1 = t1.split()\n",
    "    mots_t2 = t2.split()\n",
    "    \n",
    "    # Créer une liste pour stocker les mots communs\n",
    "    mots_communs = []\n",
    "    \n",
    "    # Parcourir les mots de t1 et vérifier s'ils sont dans t2\n",
    "    for mot in mots_t1:\n",
    "        if mot in mots_t2:\n",
    "            mots_communs.append(mot)\n",
    "    \n",
    "    return mots_communs\n",
    "\n",
    "# Exemple\n",
    "T1 = \"Python est un langage de programmation\"\n",
    "T2 = \"Python est orienté objet\"\n",
    "print(\"Mots communs :\", mots_communs(T1, T2))\n"
   ]
  }
 ],
 "metadata": {
  "kernelspec": {
   "display_name": "Python 3",
   "language": "python",
   "name": "python3"
  },
  "language_info": {
   "codemirror_mode": {
    "name": "ipython",
    "version": 3
   },
   "file_extension": ".py",
   "mimetype": "text/x-python",
   "name": "python",
   "nbconvert_exporter": "python",
   "pygments_lexer": "ipython3",
   "version": "3.12.4"
  }
 },
 "nbformat": 4,
 "nbformat_minor": 5
}
